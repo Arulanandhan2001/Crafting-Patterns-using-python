{
 "cells": [
  {
   "cell_type": "code",
   "execution_count": 1,
   "id": "6c499938-f274-47ab-b7c1-256c582534e3",
   "metadata": {},
   "outputs": [
    {
     "name": "stdin",
     "output_type": "stream",
     "text": [
      "Enter the patter that you wants (\"ring flower\"-\"star\"-\"chakra\"-\"mangique\"-\"rasingan\"-\"color flower\"-\"star flower\"-\"circus\") :  rasingan\n"
     ]
    },
    {
     "name": "stdout",
     "output_type": "stream",
     "text": [
      "will you please can you enter a correct function\n",
      "None\n"
     ]
    }
   ],
   "source": [
    "p=input('Enter the patter that you wants (\"ring flower\"-\"star\"-\"chakra\"-\"mangique\"-\"rasingan\"-\"color flower\"-\"star flower\"-\"circus\") : ')\n",
    "\n",
    "try:\n",
    "    if p!=\"ring flower\" and \"star\" and \"chakra\" and \"rasingan\" and \"colour flower\" and \"star flower\" and \"mangique\" and \"circus\":\n",
    "        print(\"will you please can you enter a correct function\")\n",
    "except:\n",
    "    pass\n",
    "\n",
    "import pattern   #importing py file\n",
    "\n",
    "if p==\"ring flower\":\n",
    "    print(pattern.BangelFlower())\n",
    "\n",
    "if p==\"star\":\n",
    "    print(pattern.star())\n",
    "\n",
    "if p==\"chakra\":\n",
    "    print(pattern.chakra())\n",
    "\n",
    "if p==\"rasingan\":\n",
    "    print(pattern.rasingan())\n",
    "\n",
    "if p==\"color flower\":\n",
    "    print(pattern.flower_lite())\n",
    "\n",
    "if p==\"star flower\":\n",
    "    print(pattern.flower_star())\n",
    "\n",
    "if p==\"mangique\":\n",
    "    print(pattern.flower())\n",
    "\n",
    "if p==\"circus\":\n",
    "    print(pattern.circus())"
   ]
  },
  {
   "cell_type": "code",
   "execution_count": null,
   "id": "756fa214-75df-4ef1-89f9-e63414f7312e",
   "metadata": {},
   "outputs": [],
   "source": [
    "\n"
   ]
  }
 ],
 "metadata": {
  "kernelspec": {
   "display_name": "Python 3 (ipykernel)",
   "language": "python",
   "name": "python3"
  },
  "language_info": {
   "codemirror_mode": {
    "name": "ipython",
    "version": 3
   },
   "file_extension": ".py",
   "mimetype": "text/x-python",
   "name": "python",
   "nbconvert_exporter": "python",
   "pygments_lexer": "ipython3",
   "version": "3.11.7"
  }
 },
 "nbformat": 4,
 "nbformat_minor": 5
}
